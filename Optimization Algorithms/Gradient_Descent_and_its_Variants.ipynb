{
  "nbformat": 4,
  "nbformat_minor": 0,
  "metadata": {
    "kernelspec": {
      "display_name": "Python 3",
      "language": "python",
      "name": "python3"
    },
    "language_info": {
      "codemirror_mode": {
        "name": "ipython",
        "version": 3
      },
      "file_extension": ".py",
      "mimetype": "text/x-python",
      "name": "python",
      "nbconvert_exporter": "python",
      "pygments_lexer": "ipython3",
      "version": "3.6.6"
    },
    "colab": {
      "name": "Gradient_Descent_and_its_Variants.ipynb",
      "provenance": [],
      "collapsed_sections": []
    }
  },
  "cells": [
    {
      "cell_type": "markdown",
      "metadata": {
        "id": "gEHXTpJB7pX8"
      },
      "source": [
        "# Optimization Algorithms\n",
        "\n",
        "### A comparison between Batch Gradient Descent, Stochastic Gradient Descent, Gradient Descent with Momentum, RMSProp and ADAM Algorithms"
      ]
    },
    {
      "cell_type": "code",
      "metadata": {
        "id": "xbzJGBRyTHf5"
      },
      "source": [
        "import numpy as np\n",
        "import pandas as pd\n",
        "\n",
        "from sklearn.linear_model import LinearRegression\n"
      ],
      "execution_count": null,
      "outputs": []
    },
    {
      "cell_type": "markdown",
      "metadata": {
        "id": "_4yovKCu8I5D"
      },
      "source": [
        "## Generate Synthetic Data for Regression"
      ]
    },
    {
      "cell_type": "code",
      "metadata": {
        "id": "ouQ4EuD0THgv"
      },
      "source": [
        "x1 = np.random.randint(1,30,200000)\n",
        "x2 = np.random.randint(1,30,200000)\n",
        "\n",
        "y = 4 + 2 * x1 + 3 * x2 + 3 * np.random.random(200000)"
      ],
      "execution_count": null,
      "outputs": []
    },
    {
      "cell_type": "code",
      "metadata": {
        "id": "z8IU2OFBeuyN",
        "colab": {
          "base_uri": "https://localhost:8080/"
        },
        "outputId": "f8c3c452-3a82-43f6-f7ca-ba0b465dc3d8"
      },
      "source": [
        "x1.shape"
      ],
      "execution_count": null,
      "outputs": [
        {
          "output_type": "execute_result",
          "data": {
            "text/plain": [
              "(200000,)"
            ]
          },
          "metadata": {},
          "execution_count": 3
        }
      ]
    },
    {
      "cell_type": "code",
      "metadata": {
        "id": "Ewb7QIIaexc6",
        "colab": {
          "base_uri": "https://localhost:8080/"
        },
        "outputId": "fef255ef-bd8d-423a-8d7b-ee9883726b4f"
      },
      "source": [
        "y.shape"
      ],
      "execution_count": null,
      "outputs": [
        {
          "output_type": "execute_result",
          "data": {
            "text/plain": [
              "(200000,)"
            ]
          },
          "metadata": {},
          "execution_count": 4
        }
      ]
    },
    {
      "cell_type": "code",
      "metadata": {
        "id": "-Pz7rsyCTHhX",
        "colab": {
          "base_uri": "https://localhost:8080/"
        },
        "outputId": "5b5c3471-b87c-47d7-f460-5cdfbda27210"
      },
      "source": [
        "w = np.random.random(3)\n",
        "w"
      ],
      "execution_count": null,
      "outputs": [
        {
          "output_type": "execute_result",
          "data": {
            "text/plain": [
              "array([0.72989424, 0.75865524, 0.9574557 ])"
            ]
          },
          "metadata": {},
          "execution_count": 5
        }
      ]
    },
    {
      "cell_type": "markdown",
      "metadata": {
        "id": "BN1UpXEH8N6D"
      },
      "source": [
        "## Put data in a DataFrame"
      ]
    },
    {
      "cell_type": "code",
      "metadata": {
        "id": "D-8nj-rETHh1"
      },
      "source": [
        "x = pd.DataFrame({'const':np.ones(200000),'x1':x1,'x2':x2})"
      ],
      "execution_count": null,
      "outputs": []
    },
    {
      "cell_type": "code",
      "metadata": {
        "id": "IVQT1OnWcvmg",
        "colab": {
          "base_uri": "https://localhost:8080/"
        },
        "outputId": "2a8f5102-0172-4149-ec1d-503331fa78e1"
      },
      "source": [
        "x.info()"
      ],
      "execution_count": null,
      "outputs": [
        {
          "output_type": "stream",
          "name": "stdout",
          "text": [
            "<class 'pandas.core.frame.DataFrame'>\n",
            "RangeIndex: 200000 entries, 0 to 199999\n",
            "Data columns (total 3 columns):\n",
            " #   Column  Non-Null Count   Dtype  \n",
            "---  ------  --------------   -----  \n",
            " 0   const   200000 non-null  float64\n",
            " 1   x1      200000 non-null  int64  \n",
            " 2   x2      200000 non-null  int64  \n",
            "dtypes: float64(1), int64(2)\n",
            "memory usage: 4.6 MB\n"
          ]
        }
      ]
    },
    {
      "cell_type": "code",
      "metadata": {
        "id": "_50j7fjucx1K",
        "colab": {
          "base_uri": "https://localhost:8080/",
          "height": 300
        },
        "outputId": "0cb49026-596e-42e4-b7ec-a10b6484282e"
      },
      "source": [
        "x.describe()"
      ],
      "execution_count": null,
      "outputs": [
        {
          "output_type": "execute_result",
          "data": {
            "text/html": [
              "<div>\n",
              "<style scoped>\n",
              "    .dataframe tbody tr th:only-of-type {\n",
              "        vertical-align: middle;\n",
              "    }\n",
              "\n",
              "    .dataframe tbody tr th {\n",
              "        vertical-align: top;\n",
              "    }\n",
              "\n",
              "    .dataframe thead th {\n",
              "        text-align: right;\n",
              "    }\n",
              "</style>\n",
              "<table border=\"1\" class=\"dataframe\">\n",
              "  <thead>\n",
              "    <tr style=\"text-align: right;\">\n",
              "      <th></th>\n",
              "      <th>const</th>\n",
              "      <th>x1</th>\n",
              "      <th>x2</th>\n",
              "    </tr>\n",
              "  </thead>\n",
              "  <tbody>\n",
              "    <tr>\n",
              "      <th>count</th>\n",
              "      <td>200000.0</td>\n",
              "      <td>200000.00000</td>\n",
              "      <td>200000.000000</td>\n",
              "    </tr>\n",
              "    <tr>\n",
              "      <th>mean</th>\n",
              "      <td>1.0</td>\n",
              "      <td>15.04008</td>\n",
              "      <td>14.979070</td>\n",
              "    </tr>\n",
              "    <tr>\n",
              "      <th>std</th>\n",
              "      <td>0.0</td>\n",
              "      <td>8.36361</td>\n",
              "      <td>8.365963</td>\n",
              "    </tr>\n",
              "    <tr>\n",
              "      <th>min</th>\n",
              "      <td>1.0</td>\n",
              "      <td>1.00000</td>\n",
              "      <td>1.000000</td>\n",
              "    </tr>\n",
              "    <tr>\n",
              "      <th>25%</th>\n",
              "      <td>1.0</td>\n",
              "      <td>8.00000</td>\n",
              "      <td>8.000000</td>\n",
              "    </tr>\n",
              "    <tr>\n",
              "      <th>50%</th>\n",
              "      <td>1.0</td>\n",
              "      <td>15.00000</td>\n",
              "      <td>15.000000</td>\n",
              "    </tr>\n",
              "    <tr>\n",
              "      <th>75%</th>\n",
              "      <td>1.0</td>\n",
              "      <td>22.00000</td>\n",
              "      <td>22.000000</td>\n",
              "    </tr>\n",
              "    <tr>\n",
              "      <th>max</th>\n",
              "      <td>1.0</td>\n",
              "      <td>29.00000</td>\n",
              "      <td>29.000000</td>\n",
              "    </tr>\n",
              "  </tbody>\n",
              "</table>\n",
              "</div>"
            ],
            "text/plain": [
              "          const            x1             x2\n",
              "count  200000.0  200000.00000  200000.000000\n",
              "mean        1.0      15.04008      14.979070\n",
              "std         0.0       8.36361       8.365963\n",
              "min         1.0       1.00000       1.000000\n",
              "25%         1.0       8.00000       8.000000\n",
              "50%         1.0      15.00000      15.000000\n",
              "75%         1.0      22.00000      22.000000\n",
              "max         1.0      29.00000      29.000000"
            ]
          },
          "metadata": {},
          "execution_count": 8
        }
      ]
    },
    {
      "cell_type": "code",
      "metadata": {
        "id": "_ZT49Th3c3EA",
        "colab": {
          "base_uri": "https://localhost:8080/",
          "height": 206
        },
        "outputId": "5bd237c7-62a0-4de8-ca9d-a46dec12d204"
      },
      "source": [
        "x.head()"
      ],
      "execution_count": null,
      "outputs": [
        {
          "output_type": "execute_result",
          "data": {
            "text/html": [
              "<div>\n",
              "<style scoped>\n",
              "    .dataframe tbody tr th:only-of-type {\n",
              "        vertical-align: middle;\n",
              "    }\n",
              "\n",
              "    .dataframe tbody tr th {\n",
              "        vertical-align: top;\n",
              "    }\n",
              "\n",
              "    .dataframe thead th {\n",
              "        text-align: right;\n",
              "    }\n",
              "</style>\n",
              "<table border=\"1\" class=\"dataframe\">\n",
              "  <thead>\n",
              "    <tr style=\"text-align: right;\">\n",
              "      <th></th>\n",
              "      <th>const</th>\n",
              "      <th>x1</th>\n",
              "      <th>x2</th>\n",
              "    </tr>\n",
              "  </thead>\n",
              "  <tbody>\n",
              "    <tr>\n",
              "      <th>0</th>\n",
              "      <td>1.0</td>\n",
              "      <td>4</td>\n",
              "      <td>21</td>\n",
              "    </tr>\n",
              "    <tr>\n",
              "      <th>1</th>\n",
              "      <td>1.0</td>\n",
              "      <td>12</td>\n",
              "      <td>22</td>\n",
              "    </tr>\n",
              "    <tr>\n",
              "      <th>2</th>\n",
              "      <td>1.0</td>\n",
              "      <td>7</td>\n",
              "      <td>5</td>\n",
              "    </tr>\n",
              "    <tr>\n",
              "      <th>3</th>\n",
              "      <td>1.0</td>\n",
              "      <td>3</td>\n",
              "      <td>14</td>\n",
              "    </tr>\n",
              "    <tr>\n",
              "      <th>4</th>\n",
              "      <td>1.0</td>\n",
              "      <td>5</td>\n",
              "      <td>16</td>\n",
              "    </tr>\n",
              "  </tbody>\n",
              "</table>\n",
              "</div>"
            ],
            "text/plain": [
              "   const  x1  x2\n",
              "0    1.0   4  21\n",
              "1    1.0  12  22\n",
              "2    1.0   7   5\n",
              "3    1.0   3  14\n",
              "4    1.0   5  16"
            ]
          },
          "metadata": {},
          "execution_count": 9
        }
      ]
    },
    {
      "cell_type": "code",
      "metadata": {
        "colab": {
          "base_uri": "https://localhost:8080/",
          "height": 424
        },
        "id": "bPLXsJAe8dBt",
        "outputId": "93e5bf50-4669-492c-bae3-64f41a25615e"
      },
      "source": [
        "x.iloc[:,:]"
      ],
      "execution_count": null,
      "outputs": [
        {
          "output_type": "execute_result",
          "data": {
            "text/html": [
              "<div>\n",
              "<style scoped>\n",
              "    .dataframe tbody tr th:only-of-type {\n",
              "        vertical-align: middle;\n",
              "    }\n",
              "\n",
              "    .dataframe tbody tr th {\n",
              "        vertical-align: top;\n",
              "    }\n",
              "\n",
              "    .dataframe thead th {\n",
              "        text-align: right;\n",
              "    }\n",
              "</style>\n",
              "<table border=\"1\" class=\"dataframe\">\n",
              "  <thead>\n",
              "    <tr style=\"text-align: right;\">\n",
              "      <th></th>\n",
              "      <th>const</th>\n",
              "      <th>x1</th>\n",
              "      <th>x2</th>\n",
              "    </tr>\n",
              "  </thead>\n",
              "  <tbody>\n",
              "    <tr>\n",
              "      <th>0</th>\n",
              "      <td>1.0</td>\n",
              "      <td>4</td>\n",
              "      <td>21</td>\n",
              "    </tr>\n",
              "    <tr>\n",
              "      <th>1</th>\n",
              "      <td>1.0</td>\n",
              "      <td>12</td>\n",
              "      <td>22</td>\n",
              "    </tr>\n",
              "    <tr>\n",
              "      <th>2</th>\n",
              "      <td>1.0</td>\n",
              "      <td>7</td>\n",
              "      <td>5</td>\n",
              "    </tr>\n",
              "    <tr>\n",
              "      <th>3</th>\n",
              "      <td>1.0</td>\n",
              "      <td>3</td>\n",
              "      <td>14</td>\n",
              "    </tr>\n",
              "    <tr>\n",
              "      <th>4</th>\n",
              "      <td>1.0</td>\n",
              "      <td>5</td>\n",
              "      <td>16</td>\n",
              "    </tr>\n",
              "    <tr>\n",
              "      <th>...</th>\n",
              "      <td>...</td>\n",
              "      <td>...</td>\n",
              "      <td>...</td>\n",
              "    </tr>\n",
              "    <tr>\n",
              "      <th>199995</th>\n",
              "      <td>1.0</td>\n",
              "      <td>9</td>\n",
              "      <td>3</td>\n",
              "    </tr>\n",
              "    <tr>\n",
              "      <th>199996</th>\n",
              "      <td>1.0</td>\n",
              "      <td>2</td>\n",
              "      <td>2</td>\n",
              "    </tr>\n",
              "    <tr>\n",
              "      <th>199997</th>\n",
              "      <td>1.0</td>\n",
              "      <td>29</td>\n",
              "      <td>8</td>\n",
              "    </tr>\n",
              "    <tr>\n",
              "      <th>199998</th>\n",
              "      <td>1.0</td>\n",
              "      <td>15</td>\n",
              "      <td>9</td>\n",
              "    </tr>\n",
              "    <tr>\n",
              "      <th>199999</th>\n",
              "      <td>1.0</td>\n",
              "      <td>18</td>\n",
              "      <td>8</td>\n",
              "    </tr>\n",
              "  </tbody>\n",
              "</table>\n",
              "<p>200000 rows × 3 columns</p>\n",
              "</div>"
            ],
            "text/plain": [
              "        const  x1  x2\n",
              "0         1.0   4  21\n",
              "1         1.0  12  22\n",
              "2         1.0   7   5\n",
              "3         1.0   3  14\n",
              "4         1.0   5  16\n",
              "...       ...  ..  ..\n",
              "199995    1.0   9   3\n",
              "199996    1.0   2   2\n",
              "199997    1.0  29   8\n",
              "199998    1.0  15   9\n",
              "199999    1.0  18   8\n",
              "\n",
              "[200000 rows x 3 columns]"
            ]
          },
          "metadata": {},
          "execution_count": 10
        }
      ]
    },
    {
      "cell_type": "markdown",
      "metadata": {
        "id": "mSutmXdoTHiT"
      },
      "source": [
        "## Estimate Parameter values by Fitting a LinearRegression model from Scikitlearn\n",
        "\n"
      ]
    },
    {
      "cell_type": "code",
      "metadata": {
        "id": "EvZvYaVFTHig",
        "colab": {
          "base_uri": "https://localhost:8080/"
        },
        "outputId": "a3aaf6f0-dc02-42f3-9943-ddfab439cd17"
      },
      "source": [
        "lr = LinearRegression()\n",
        "lr.fit(x.iloc[:,1:],y)\n"
      ],
      "execution_count": null,
      "outputs": [
        {
          "output_type": "execute_result",
          "data": {
            "text/plain": [
              "LinearRegression()"
            ]
          },
          "metadata": {},
          "execution_count": 11
        }
      ]
    },
    {
      "cell_type": "code",
      "metadata": {
        "id": "y5A9a-mKTHjE",
        "colab": {
          "base_uri": "https://localhost:8080/"
        },
        "outputId": "5b3f0058-adfe-4f0e-f888-fb4131e07154"
      },
      "source": [
        "w_sklearn = [lr.intercept_] + list(lr.coef_)\n",
        "w_sklearn"
      ],
      "execution_count": null,
      "outputs": [
        {
          "output_type": "execute_result",
          "data": {
            "text/plain": [
              "[5.498936028715093, 2.0005180395657134, 2.999456035556803]"
            ]
          },
          "metadata": {},
          "execution_count": 12
        }
      ]
    },
    {
      "cell_type": "markdown",
      "metadata": {
        "id": "9TXWrO3oTHja"
      },
      "source": [
        "## Paramter Estimation with Gradient Descent"
      ]
    },
    {
      "cell_type": "code",
      "metadata": {
        "id": "LQNNyFSSTHjh"
      },
      "source": [
        "def mypred(features,weights):\n",
        "    preds=np.dot(features,weights)\n",
        "    return(preds)"
      ],
      "execution_count": null,
      "outputs": []
    },
    {
      "cell_type": "code",
      "metadata": {
        "id": "0SObZVH1THj3",
        "colab": {
          "base_uri": "https://localhost:8080/"
        },
        "outputId": "f4fe8bcb-1feb-4589-af31-b6bb1c2c6af0"
      },
      "source": [
        "mypred(x,w).shape"
      ],
      "execution_count": null,
      "outputs": [
        {
          "output_type": "execute_result",
          "data": {
            "text/plain": [
              "(200000,)"
            ]
          },
          "metadata": {},
          "execution_count": 14
        }
      ]
    },
    {
      "cell_type": "code",
      "metadata": {
        "id": "mvXjF2DVTHkQ"
      },
      "source": [
        "def myerror(target,features,weights):\n",
        "    preds=mypred(features,weights)\n",
        "    errors=target-preds\n",
        "    return(errors)"
      ],
      "execution_count": null,
      "outputs": []
    },
    {
      "cell_type": "code",
      "metadata": {
        "id": "rlov7Uo9THks",
        "colab": {
          "base_uri": "https://localhost:8080/"
        },
        "outputId": "08fb02b3-9fb3-4b4c-c329-7d481d27fadb"
      },
      "source": [
        "myerror(y,x,w)"
      ],
      "execution_count": null,
      "outputs": [
        {
          "output_type": "execute_result",
          "data": {
            "text/plain": [
              "array([51.97245564, 63.23985844, 23.11994924, ..., 56.14571019,\n",
              "       42.43953493, 43.86780419])"
            ]
          },
          "metadata": {},
          "execution_count": 16
        }
      ]
    },
    {
      "cell_type": "code",
      "metadata": {
        "id": "VpkSA-_GTHlI"
      },
      "source": [
        "def mycost(target,features,weights):\n",
        "    errors=myerror(target,features,weights)\n",
        "    #print(errors.shape)\n",
        "    #print(errors)\n",
        "    cost=np.dot(errors.T,errors)  # Squared error values summed up\n",
        "    return(cost)"
      ],
      "execution_count": null,
      "outputs": []
    },
    {
      "cell_type": "code",
      "metadata": {
        "id": "cqM_daAJTHmD"
      },
      "source": [
        "def gradient(target,features,weights):\n",
        "    errors=myerror(target,features,weights)\n",
        "    grad=-np.dot(features.T,errors)/features.shape[0]\n",
        "    return(grad)"
      ],
      "execution_count": null,
      "outputs": []
    },
    {
      "cell_type": "code",
      "metadata": {
        "id": "kCW-b0YNTHmb",
        "colab": {
          "base_uri": "https://localhost:8080/"
        },
        "outputId": "09eb8e79-a5a2-4788-aa84-f19c0c102320"
      },
      "source": [
        "gradient(y,x,w)"
      ],
      "execution_count": null,
      "outputs": [
        {
          "output_type": "execute_result",
          "data": {
            "text/plain": [
              "array([  -59.79111969, -1007.04864294, -1043.43274323])"
            ]
          },
          "metadata": {
            "tags": []
          },
          "execution_count": 44
        }
      ]
    },
    {
      "cell_type": "markdown",
      "metadata": {
        "id": "DP_7H_115226"
      },
      "source": [
        "## Batch Gradient Descent"
      ]
    },
    {
      "cell_type": "code",
      "metadata": {
        "id": "rRc456ZRTHm1"
      },
      "source": [
        "def my_lr_gd(target,features,learning_rate,num_steps):\n",
        "    weights=np.random.random(features.shape[1])\n",
        "    cost=[]\n",
        "    for i in range(num_steps):\n",
        "        weights-=learning_rate*gradient(target,features,weights)\n",
        "        cost.append(mycost(target,features,weights))\n",
        "    return(cost,weights)"
      ],
      "execution_count": null,
      "outputs": []
    },
    {
      "cell_type": "code",
      "metadata": {
        "id": "FdeKGeLnTHng"
      },
      "source": [
        "cost_gd,w_gd=my_lr_gd(y,x,.001,1000)"
      ],
      "execution_count": null,
      "outputs": []
    },
    {
      "cell_type": "code",
      "metadata": {
        "id": "7sntSv_rTHn3",
        "colab": {
          "base_uri": "https://localhost:8080/"
        },
        "outputId": "186ad9a7-1cdf-41eb-9d98-9077c8db7a19"
      },
      "source": [
        "w_gd"
      ],
      "execution_count": null,
      "outputs": [
        {
          "output_type": "execute_result",
          "data": {
            "text/plain": [
              "array([0.94258367, 2.1313725 , 3.13185332])"
            ]
          },
          "metadata": {
            "tags": []
          },
          "execution_count": 47
        }
      ]
    },
    {
      "cell_type": "code",
      "metadata": {
        "id": "_A1OugrXTHoT",
        "colab": {
          "base_uri": "https://localhost:8080/"
        },
        "outputId": "931a0308-1559-4487-876f-c8b75efc7cc5"
      },
      "source": [
        "w_sklearn/w_gd"
      ],
      "execution_count": null,
      "outputs": [
        {
          "output_type": "execute_result",
          "data": {
            "text/plain": [
              "array([5.83843681, 0.9382775 , 0.95792667])"
            ]
          },
          "metadata": {
            "tags": []
          },
          "execution_count": 48
        }
      ]
    },
    {
      "cell_type": "code",
      "metadata": {
        "id": "xHuVpoupTHop",
        "colab": {
          "base_uri": "https://localhost:8080/",
          "height": 283
        },
        "outputId": "ae35f3c6-309e-4e42-fc60-d51944372d67"
      },
      "source": [
        "np.log(pd.DataFrame({'cost_gd':cost_gd})).plot()"
      ],
      "execution_count": null,
      "outputs": [
        {
          "output_type": "execute_result",
          "data": {
            "text/plain": [
              "<matplotlib.axes._subplots.AxesSubplot at 0x7f092c41ebd0>"
            ]
          },
          "metadata": {
            "tags": []
          },
          "execution_count": 49
        },
        {
          "output_type": "display_data",
          "data": {
            "image/png": "[encoded data removed]",
            "text/plain": [
              "<Figure size 432x288 with 1 Axes>"
            ]
          },
          "metadata": {
            "tags": [],
            "needs_background": "light"
          }
        }
      ]
    },
    {
      "cell_type": "markdown",
      "metadata": {
        "id": "AoXcnVec5vzo"
      },
      "source": [
        "## Stochastic Gradient Descent"
      ]
    },
    {
      "cell_type": "code",
      "metadata": {
        "id": "CkpyDFcBTHpA"
      },
      "source": [
        "def my_lr_sgd(target,features,learning_rate,num_steps):\n",
        "    cost=[]\n",
        "    weights=np.random.random(features.shape[1])\n",
        "    \n",
        "    for i in np.arange(num_steps):\n",
        "        rand_ind=np.random.choice(range(features.shape[0]),10) # Randomly chosen 10 data points\n",
        "        target_sub=target[rand_ind]\n",
        "        features_sub=features.iloc[rand_ind,:]\n",
        "        \n",
        "        weights -= learning_rate*gradient(target_sub,features_sub,weights)\n",
        "        \n",
        "        cost.append(mycost(target,features,weights))\n",
        "            \n",
        "    return(cost,weights)"
      ],
      "execution_count": null,
      "outputs": []
    },
    {
      "cell_type": "code",
      "metadata": {
        "id": "5sUuTsPTTHpV"
      },
      "source": [
        "cost_sgd,w_sgd=my_lr_sgd(y,x,.001,1000)"
      ],
      "execution_count": null,
      "outputs": []
    },
    {
      "cell_type": "code",
      "metadata": {
        "id": "RGHCMxBLTHpt",
        "colab": {
          "base_uri": "https://localhost:8080/"
        },
        "outputId": "539a5c57-b61d-460c-dc53-d18468d9810e"
      },
      "source": [
        "w_sgd"
      ],
      "execution_count": null,
      "outputs": [
        {
          "output_type": "execute_result",
          "data": {
            "text/plain": [
              "array([1.100805  , 2.12606574, 3.13094132])"
            ]
          },
          "metadata": {
            "tags": []
          },
          "execution_count": 52
        }
      ]
    },
    {
      "cell_type": "code",
      "metadata": {
        "id": "E-jUlS3FTHqF",
        "colab": {
          "base_uri": "https://localhost:8080/"
        },
        "outputId": "e83425c8-5afb-4430-828d-085e54141bbc"
      },
      "source": [
        "w_sklearn/w_sgd"
      ],
      "execution_count": null,
      "outputs": [
        {
          "output_type": "execute_result",
          "data": {
            "text/plain": [
              "array([4.99926436, 0.94061949, 0.9582057 ])"
            ]
          },
          "metadata": {
            "tags": []
          },
          "execution_count": 53
        }
      ]
    },
    {
      "cell_type": "code",
      "metadata": {
        "id": "CCj_kx8YTHqn",
        "colab": {
          "base_uri": "https://localhost:8080/",
          "height": 283
        },
        "outputId": "8469ec77-4b35-4b08-d331-65d1a4427bca"
      },
      "source": [
        "np.log(pd.DataFrame({'cost_gd':np.log(cost_gd),'cost_sgd':np.log(cost_sgd)})).plot()"
      ],
      "execution_count": null,
      "outputs": [
        {
          "output_type": "execute_result",
          "data": {
            "text/plain": [
              "<matplotlib.axes._subplots.AxesSubplot at 0x7f092c36dc50>"
            ]
          },
          "metadata": {
            "tags": []
          },
          "execution_count": 54
        },
        {
          "output_type": "display_data",
          "data": {
            "image/png": "[encoded data removed]",
            "text/plain": [
              "<Figure size 432x288 with 1 Axes>"
            ]
          },
          "metadata": {
            "tags": [],
            "needs_background": "light"
          }
        }
      ]
    },
    {
      "cell_type": "markdown",
      "metadata": {
        "id": "EjtCxGZU6k2C"
      },
      "source": [
        "## Gradient Descent with Momentum"
      ]
    },
    {
      "cell_type": "code",
      "metadata": {
        "id": "8N6G-mu1THq6"
      },
      "source": [
        "def my_lr_mom(target,features,learning_rate,num_steps):\n",
        "    cost=[]\n",
        "    \n",
        "    weights=np.random.random(features.shape[1])\n",
        "    \n",
        "    vw=np.zeros(features.shape[1])\n",
        "    beta=0.9\n",
        "    \n",
        "    for i in np.arange(num_steps):\n",
        "        rand_ind=np.random.choice(range(features.shape[0]),10) # Randomly chosen 10 data points\n",
        "        target_sub=target[rand_ind]\n",
        "        features_sub=features.iloc[rand_ind,:] # Randomly chosen 10 data points\n",
        "        \n",
        "        vw=beta*vw+(1-beta)*gradient(target_sub,features_sub,weights)\n",
        "        \n",
        "        vw_a=vw/(1-beta**(i+1)) # Bias correction\n",
        "        \n",
        "        weights -= learning_rate*vw_a\n",
        "        cost.append(mycost(target,features,weights))\n",
        "            \n",
        "    return(cost,weights)"
      ],
      "execution_count": null,
      "outputs": []
    },
    {
      "cell_type": "code",
      "metadata": {
        "id": "GJEXO30xTHrM"
      },
      "source": [
        "cost_mom,w_mom=my_lr_mom(y,x,.01,1000)"
      ],
      "execution_count": null,
      "outputs": []
    },
    {
      "cell_type": "code",
      "metadata": {
        "id": "8-wX7wl8THrg",
        "colab": {
          "base_uri": "https://localhost:8080/"
        },
        "outputId": "18892011-031f-40ee-b9c9-c1e66f9f87e7"
      },
      "source": [
        "w_mom"
      ],
      "execution_count": null,
      "outputs": [
        {
          "output_type": "execute_result",
          "data": {
            "text/plain": [
              "array([4.4471949 , 2.04954588, 3.04026706])"
            ]
          },
          "metadata": {
            "tags": []
          },
          "execution_count": 58
        }
      ]
    },
    {
      "cell_type": "code",
      "metadata": {
        "id": "7mJcHZSKTHrw",
        "colab": {
          "base_uri": "https://localhost:8080/"
        },
        "outputId": "9466ab70-ddfa-406e-952c-3a06e7647b3f"
      },
      "source": [
        "w_sklearn/w_mom"
      ],
      "execution_count": null,
      "outputs": [
        {
          "output_type": "execute_result",
          "data": {
            "text/plain": [
              "array([1.23745762, 0.97573755, 0.98678365])"
            ]
          },
          "metadata": {
            "tags": []
          },
          "execution_count": 59
        }
      ]
    },
    {
      "cell_type": "code",
      "metadata": {
        "id": "5mfjvOnBTHsF",
        "colab": {
          "base_uri": "https://localhost:8080/",
          "height": 283
        },
        "outputId": "6e5a5d1c-02e9-47ed-9867-674ebe862a5a"
      },
      "source": [
        "np.log(pd.DataFrame({'cost_gd':cost_gd,'cost_sgd':cost_sgd,'cost_mom':cost_mom})).plot()"
      ],
      "execution_count": null,
      "outputs": [
        {
          "output_type": "execute_result",
          "data": {
            "text/plain": [
              "<matplotlib.axes._subplots.AxesSubplot at 0x7f092bea2810>"
            ]
          },
          "metadata": {
            "tags": []
          },
          "execution_count": 60
        },
        {
          "output_type": "display_data",
          "data": {
            "image/png": "[encoded data removed]",
            "text/plain": [
              "<Figure size 432x288 with 1 Axes>"
            ]
          },
          "metadata": {
            "tags": [],
            "needs_background": "light"
          }
        }
      ]
    },
    {
      "cell_type": "markdown",
      "metadata": {
        "id": "5s6KMSPf6-Ey"
      },
      "source": [
        "### RMSProp"
      ]
    },
    {
      "cell_type": "code",
      "metadata": {
        "id": "LCQzmWDwTHsp"
      },
      "source": [
        "def my_lr_rms(target,features,learning_rate,num_steps):\n",
        "    cost=[]\n",
        "    \n",
        "    weights=np.random.random(features.shape[1])\n",
        "    \n",
        "    sw=np.zeros(features.shape[1])\n",
        "    \n",
        "    beta=0.99\n",
        "\n",
        "    for i in np.arange(num_steps):\n",
        "        rand_ind=np.random.choice(range(features.shape[0]),10) # Randomly chosen 10 data points\n",
        "        target_sub=target[rand_ind]\n",
        "        features_sub=features.iloc[rand_ind,:]\n",
        "        \n",
        "        gd=gradient(target_sub,features_sub,weights)\n",
        "        sw=beta*sw+(1-beta)*(gd**2)\n",
        "        \n",
        "        sw_a=sw/(1-beta**(i+1))\n",
        "        \n",
        "        weights -= learning_rate*(gd/(np.sqrt(sw_a)+1e-15))\n",
        "        cost.append(mycost(target,features,weights))\n",
        "            \n",
        "    return(cost,weights)"
      ],
      "execution_count": null,
      "outputs": []
    },
    {
      "cell_type": "code",
      "metadata": {
        "id": "gcyEHqZ9THs6"
      },
      "source": [
        "cost_rms,w_rms=my_lr_rms(y,x,.1,1000)"
      ],
      "execution_count": null,
      "outputs": []
    },
    {
      "cell_type": "code",
      "metadata": {
        "id": "vMKTtvj_THta",
        "colab": {
          "base_uri": "https://localhost:8080/"
        },
        "outputId": "88eb864c-21c0-49d5-f515-10a101ba281f"
      },
      "source": [
        "w_rms"
      ],
      "execution_count": null,
      "outputs": [
        {
          "output_type": "execute_result",
          "data": {
            "text/plain": [
              "array([5.4798822 , 2.06946984, 3.0565902 ])"
            ]
          },
          "metadata": {
            "tags": []
          },
          "execution_count": 63
        }
      ]
    },
    {
      "cell_type": "code",
      "metadata": {
        "id": "7YOMRD_7THtz",
        "colab": {
          "base_uri": "https://localhost:8080/"
        },
        "outputId": "e386b72f-c312-4337-974b-4f2ea829b0fc"
      },
      "source": [
        "w_sklearn/w_rms"
      ],
      "execution_count": null,
      "outputs": [
        {
          "output_type": "execute_result",
          "data": {
            "text/plain": [
              "array([1.00425794, 0.96634357, 0.98151392])"
            ]
          },
          "metadata": {
            "tags": []
          },
          "execution_count": 64
        }
      ]
    },
    {
      "cell_type": "code",
      "metadata": {
        "id": "45NWL42JTHui",
        "colab": {
          "base_uri": "https://localhost:8080/",
          "height": 283
        },
        "outputId": "0440ae6a-2306-457f-e7a8-89e757895fa3"
      },
      "source": [
        "np.log(pd.DataFrame({'cost_gd':cost_gd,'cost_sgd':cost_sgd,'cost_mom':cost_mom,'cost_rms':cost_rms})).plot()"
      ],
      "execution_count": null,
      "outputs": [
        {
          "output_type": "execute_result",
          "data": {
            "text/plain": [
              "<matplotlib.axes._subplots.AxesSubplot at 0x7f092c460f50>"
            ]
          },
          "metadata": {
            "tags": []
          },
          "execution_count": 65
        },
        {
          "output_type": "display_data",
          "data": {
            "image/png": "[encoded data removed]",
            "text/plain": [
              "<Figure size 432x288 with 1 Axes>"
            ]
          },
          "metadata": {
            "tags": [],
            "needs_background": "light"
          }
        }
      ]
    },
    {
      "cell_type": "markdown",
      "metadata": {
        "id": "0dI0V6bP7MLn"
      },
      "source": [
        "## ADAM"
      ]
    },
    {
      "cell_type": "code",
      "metadata": {
        "id": "YcbdbqsGTHu5"
      },
      "source": [
        "def my_lr_adam(target,features,learning_rate,num_steps):\n",
        "    cost=[]\n",
        "    \n",
        "    weights=np.random.random(features.shape[1])\n",
        "    sw=np.zeros(features.shape[1])\n",
        "    vw=np.zeros(features.shape[1])\n",
        "    beta1=0.9\n",
        "    beta2=0.99\n",
        "    \n",
        "    for i in np.arange(num_steps):\n",
        "        rand_ind=np.random.choice(range(features.shape[0]),10) # Randomly chosen 10 data points\n",
        "        target_sub=target[rand_ind]\n",
        "        features_sub=features.iloc[rand_ind,:]\n",
        "        \n",
        "        gd=gradient(target_sub,features_sub,weights)\n",
        "        vw=beta1*vw+(1-beta1)*gd\n",
        "        sw=beta2*sw+(1-beta2)*(gd**2)\n",
        "        \n",
        "        vw_a=vw/(1-beta1**(i+1))\n",
        "        sw_a=sw/(1-beta2**(i+1))\n",
        "        \n",
        "        weights = weights - learning_rate*(vw_a/(np.sqrt(sw_a)+1e-15))\n",
        "        \n",
        "        cost.append(mycost(target,features,weights))\n",
        "            \n",
        "    return(cost,weights)"
      ],
      "execution_count": null,
      "outputs": []
    },
    {
      "cell_type": "code",
      "metadata": {
        "id": "0gQ4s6yrTHvH"
      },
      "source": [
        "cost_adam,w_adam=my_lr_adam(y,x,.1,1000)"
      ],
      "execution_count": null,
      "outputs": []
    },
    {
      "cell_type": "code",
      "metadata": {
        "id": "7JlpqNrmTHv3",
        "colab": {
          "base_uri": "https://localhost:8080/"
        },
        "outputId": "e8599dc2-9ecf-4469-adf9-807879144bbe"
      },
      "source": [
        "w_adam"
      ],
      "execution_count": null,
      "outputs": [
        {
          "output_type": "execute_result",
          "data": {
            "text/plain": [
              "array([5.41749711, 1.99949467, 3.01158375])"
            ]
          },
          "metadata": {
            "tags": []
          },
          "execution_count": 68
        }
      ]
    },
    {
      "cell_type": "code",
      "metadata": {
        "id": "obBP-M9mTHwJ",
        "colab": {
          "base_uri": "https://localhost:8080/"
        },
        "outputId": "7ec2676c-18b7-4ebf-ce21-6be53459919b"
      },
      "source": [
        "w_sklearn/w_adam"
      ],
      "execution_count": null,
      "outputs": [
        {
          "output_type": "execute_result",
          "data": {
            "text/plain": [
              "array([1.01582246, 1.00016214, 0.9961821 ])"
            ]
          },
          "metadata": {
            "tags": []
          },
          "execution_count": 69
        }
      ]
    },
    {
      "cell_type": "code",
      "metadata": {
        "id": "-8Cd-lriTHwg",
        "colab": {
          "base_uri": "https://localhost:8080/",
          "height": 283
        },
        "outputId": "9d43a65d-a238-4368-84ff-b344ab0490c1"
      },
      "source": [
        "np.log(pd.DataFrame({'cost_gd':cost_gd,'cost_sgd':cost_sgd,'cost_mom':cost_mom,'cost_rms':cost_rms,'cost_adam':cost_adam})).plot()"
      ],
      "execution_count": null,
      "outputs": [
        {
          "output_type": "execute_result",
          "data": {
            "text/plain": [
              "<matplotlib.axes._subplots.AxesSubplot at 0x7f092c44bed0>"
            ]
          },
          "metadata": {
            "tags": []
          },
          "execution_count": 70
        },
        {
          "output_type": "display_data",
          "data": {
            "image/png": "[encoded data removed]",
            "text/plain": [
              "<Figure size 432x288 with 1 Axes>"
            ]
          },
          "metadata": {
            "tags": [],
            "needs_background": "light"
          }
        }
      ]
    },
    {
      "cell_type": "code",
      "metadata": {
        "id": "zUGB0sJkTHw2"
      },
      "source": [
        ""
      ],
      "execution_count": null,
      "outputs": []
    }
  ]
}